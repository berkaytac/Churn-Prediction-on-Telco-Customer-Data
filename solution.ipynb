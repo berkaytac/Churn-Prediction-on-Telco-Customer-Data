{
 "cells": [
  {
   "cell_type": "code",
   "execution_count": 2,
   "metadata": {},
   "outputs": [],
   "source": [
    "import pandas as pd\n",
    "data = pd.read_csv('medical_data.csv')\n",
    "test_data = data[['death', 'Na+', 'DBP', 'PLT', 'ivabradine', 'MRA' ]]"
   ]
  },
  {
   "cell_type": "code",
   "execution_count": 4,
   "metadata": {},
   "outputs": [
    {
     "data": {
      "text/plain": [
       "{'mann_whitney': [('Na+', 0.2143)],\n",
       " 'ttest': [('DBP', 0.0), ('PLT', 0.4739)],\n",
       " 'chi_square': [('ivabradine', 0.0144), ('MRA', 0.2884)],\n",
       " 'shapiro_wilk': [('Na+', (0.0, 0.0071)),\n",
       "  ('PLT', (0.2361, 0.6935)),\n",
       "  ('DBP', (0.5272, 0.3715))]}"
      ]
     },
     "execution_count": 4,
     "metadata": {},
     "output_type": "execute_result"
    }
   ],
   "source": [
    "import pandas as pd\n",
    "from scipy import stats \n",
    "\n",
    "def perform_tests(data):\n",
    "    mann_whitney = []\n",
    "    ttest = []\n",
    "    chi_square = []\n",
    "    shapiro_wilk = []\n",
    "    for col in data.columns:\n",
    "        if col == 'death':\n",
    "            continue\n",
    "        if data[col].dtype == 'int64':\n",
    "            temp = pd.crosstab(data[col], data['death'])\n",
    "            _, p, _, _ = stats.chi2_contingency(temp)\n",
    "            chi_square.append((col, p.round(4)))\n",
    "        else:\n",
    "            _, p0 = stats.shapiro(data[data.death == 0][col])\n",
    "            _, p1 = stats.shapiro(data[data.death == 1][col])\n",
    "            shapiro_wilk.append((col, (round(p0, 4), round(p1, 4))))\n",
    "            if p0 > 0.05 and p1 > 0.05:\n",
    "                _, p = stats.ttest_ind(a=data[data.death==0][col], b=data[data.death==1][col], equal_var=False)\n",
    "                ttest.append((col, p.round(4)))\n",
    "                \n",
    "            else:\n",
    "                _, p = stats.mannwhitneyu(data[data.death == 1][col], data[data.death == 0][col], alternative='greater')\n",
    "                mann_whitney.append((col, p.round(4)))\n",
    "    \n",
    "    # Burasi bence zorunlu degil ama sonucta gosterilen sirada dondurmek istiyorsan p-value degerine gore dusukten yuksege siralama...\n",
    "    mann_whitney.sort(key=lambda x: x[1])\n",
    "    ttest.sort(key=lambda x: x[1])\n",
    "    chi_square.sort(key=lambda x: x[1])\n",
    "    shapiro_wilk.sort(key=lambda x: x[1])\n",
    "\n",
    "\n",
    "    return {'mann_whitney' : mann_whitney,\n",
    "    'ttest': ttest,\n",
    "    'chi_square': chi_square,\n",
    "    'shapiro_wilk': shapiro_wilk}\n",
    "\n",
    "perform_tests(test_data)"
   ]
  },
  {
   "cell_type": "code",
   "execution_count": null,
   "metadata": {},
   "outputs": [],
   "source": []
  }
 ],
 "metadata": {
  "kernelspec": {
   "display_name": "Python 3.8.9 ('.venv': venv)",
   "language": "python",
   "name": "python3"
  },
  "language_info": {
   "codemirror_mode": {
    "name": "ipython",
    "version": 3
   },
   "file_extension": ".py",
   "mimetype": "text/x-python",
   "name": "python",
   "nbconvert_exporter": "python",
   "pygments_lexer": "ipython3",
   "version": "3.8.9"
  },
  "orig_nbformat": 4,
  "vscode": {
   "interpreter": {
    "hash": "972160037d68f146411b8f572a15b61b6c490dda88192482b9c29599097c4e2d"
   }
  }
 },
 "nbformat": 4,
 "nbformat_minor": 2
}
